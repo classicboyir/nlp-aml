{
  "cells": [
    {
      "cell_type": "code",
      "execution_count": null,
      "id": "38f12750",
      "metadata": {
        "gather": {
          "logged": 1658850151877
        }
      },
      "outputs": [],
      "source": [
        "import os\n",
        "import pandas as pd\n",
        "import azureml.core\n",
        "import numpy as np\n",
        "import plotly.graph_objects as go\n",
        "from IPython.core.display import HTML\n",
        "from utils import *\n",
        "\n",
        "from azureml.core import Workspace, Environment, Experiment, Datastore, Dataset, ScriptRunConfig\n",
        "from azureml.train.automl.run import AutoMLRun\n",
        "from azureml.core.datastore import Datastore\n",
        "from azureml.data.data_reference import DataReference\n",
        "\n",
        "from captum.attr import visualization as viz\n",
        "from captum.attr import IntegratedGradients, LayerConductance, LayerIntegratedGradients\n",
        "from captum.attr import configure_interpretable_embedding_layer, remove_interpretable_embedding_layer\n",
        "import torch\n",
        "import matplotlib.pyplot as plt\n",
        "\n",
        "from sklearn.model_selection import train_test_split\n",
        "from sklearn.metrics import accuracy_score, recall_score, precision_score, f1_score\n",
        "from sklearn import preprocessing\n",
        "import torch\n",
        "from transformers import TrainingArguments, Trainer\n",
        "from transformers import BertTokenizer, BertForSequenceClassification, AutoModelForSequenceClassification, AutoTokenizer\n",
        "from transformers import EarlyStoppingCallback\n",
        "from transformers.integrations import AzureMLCallback\n",
        "from transformers import AutoTokenizer, DataCollatorWithPadding\n",
        "import joblib\n",
        "# from datasets import Dataset, DatasetDict\n",
        "\n",
        "# Check core SDK version number\n",
        "print(\"SDK version:\", azureml.core.VERSION)\n"
      ]
    },
    {
      "cell_type": "code",
      "execution_count": null,
      "id": "648b557d",
      "metadata": {
        "gather": {
          "logged": 1658850152525
        }
      },
      "outputs": [],
      "source": [
        "from azureml.core import Workspace\n",
        "ws = Workspace.from_config()"
      ]
    },
    {
      "cell_type": "code",
      "execution_count": null,
      "id": "479ee382",
      "metadata": {
        "gather": {
          "logged": 1658850153098
        }
      },
      "outputs": [],
      "source": [
        "ds_X_train = Dataset.get_by_name(ws, name=\"owner_g_classfication_train\", version=8)\n",
        "ds_X_val = Dataset.get_by_name(ws, name=\"owner_g_classfication_val\", version=8)\n",
        "ds_X_test = Dataset.get_by_name(ws, name=\"owner_g_classfication_test\", version=8)\n",
        "ds_temporal_test = Dataset.get_by_name(ws, name=\"owner_g_classfication_temporal_test\", version=3)"
      ]
    },
    {
      "cell_type": "code",
      "execution_count": null,
      "id": "e16951a0",
      "metadata": {
        "gather": {
          "logged": 1658850153290
        }
      },
      "outputs": [],
      "source": [
        "print(f'{ds_X_train.tags}: V{ds_X_train.version}')\n",
        "print(f'{ds_X_val.tags}: V{ds_X_val.version}')\n",
        "print(f'{ds_X_test.tags}: V{ds_X_test.version}')\n",
        "print(f'{ds_temporal_test.tags}: V{ds_temporal_test.version}')"
      ]
    },
    {
      "cell_type": "code",
      "execution_count": null,
      "id": "6eb961e3",
      "metadata": {
        "gather": {
          "logged": 1658850163072
        }
      },
      "outputs": [],
      "source": [
        "pdf_X_train = ds_X_train.to_pandas_dataframe()\n",
        "pdf_X_val = ds_X_val.to_pandas_dataframe()\n",
        "pdf_X_test = ds_X_test.to_pandas_dataframe()\n",
        "pdf_temporal_test = ds_temporal_test.to_pandas_dataframe()"
      ]
    },
    {
      "cell_type": "code",
      "execution_count": null,
      "id": "f4b505fb",
      "metadata": {},
      "outputs": [],
      "source": [
        "base_checkpoint = \"bert-base-uncased\"\n",
        "text_field_name = \"txt_field\"\n",
        "target_name = \"target\""
      ]
    },
    {
      "cell_type": "code",
      "execution_count": null,
      "id": "d7b47f53",
      "metadata": {},
      "outputs": [],
      "source": [
        "model_directory = 'model_output/model'\n",
        "model = AutoModelForSequenceClassification.from_pretrained(model_directory, num_labels=51)\n",
        "tokenizer = AutoTokenizer.from_pretrained(model_directory)"
      ]
    },
    {
      "cell_type": "code",
      "execution_count": null,
      "id": "f2ea29ac",
      "metadata": {},
      "outputs": [],
      "source": [
        "le=joblib.load(model_directory + '/labelEncoder.joblib')\n",
        "le"
      ]
    },
    {
      "cell_type": "code",
      "execution_count": null,
      "id": "1ebbc1e6",
      "metadata": {
        "gather": {
          "logged": 1658850202297
        }
      },
      "outputs": [],
      "source": [
        "device = torch.device(\"cuda:0\" if torch.cuda.is_available() else \"cpu\")\n",
        "device"
      ]
    },
    {
      "cell_type": "code",
      "execution_count": null,
      "id": "6d42282c",
      "metadata": {
        "gather": {
          "logged": 1658852855044
        }
      },
      "outputs": [],
      "source": [
        "# model = best_model.model\n",
        "model.to(device)\n",
        "model.eval()\n",
        "model.zero_grad()\n",
        "\n",
        "# load tokenizer\n",
        "# tokenizer = best_model.tokenizer\n",
        "print(device)"
      ]
    },
    {
      "cell_type": "code",
      "execution_count": null,
      "id": "5bb1a9a5-b3f1-42e0-9af8-fd59000edee6",
      "metadata": {
        "gather": {
          "logged": 1658853719565
        },
        "jupyter": {
          "outputs_hidden": false,
          "source_hidden": false
        },
        "nteract": {
          "transient": {
            "deleting": false
          }
        }
      },
      "outputs": [],
      "source": [
        "from datasets import Dataset\n",
        "\n",
        "train = Dataset.from_pandas(pdf_temporal_test)\n"
      ]
    },
    {
      "cell_type": "code",
      "execution_count": null,
      "id": "281b6b39",
      "metadata": {},
      "outputs": [],
      "source": [
        "def predict(inputs):\n",
        "    return model(inputs)[0]"
      ]
    },
    {
      "cell_type": "code",
      "execution_count": null,
      "id": "773ae518",
      "metadata": {},
      "outputs": [],
      "source": [
        "ref_token_id = tokenizer.pad_token_id\n",
        "sep_token_id = tokenizer.sep_token_id\n",
        "cls_token_id = tokenizer.cls_token_id"
      ]
    },
    {
      "cell_type": "code",
      "execution_count": null,
      "id": "ac293962",
      "metadata": {},
      "outputs": [],
      "source": [
        "def construct_input_ref_pair(text, ref_token_id, sep_token_id, cls_token_id):\n",
        "\n",
        "    text_ids = tokenizer.encode(text, add_special_tokens=False)\n",
        "    # construct input token ids\n",
        "    input_ids = [cls_token_id] + text_ids + [sep_token_id]\n",
        "    # construct reference token ids \n",
        "    ref_input_ids = [cls_token_id] + [ref_token_id] * len(text_ids) + [sep_token_id]\n",
        "\n",
        "    return torch.tensor([input_ids], device=device), torch.tensor([ref_input_ids], device=device), len(text_ids)\n",
        "\n",
        "def construct_input_ref_token_type_pair(input_ids, sep_ind=0):\n",
        "    seq_len = input_ids.size(1)\n",
        "    token_type_ids = torch.tensor([[0 if i <= sep_ind else 1 for i in range(seq_len)]], device=device)\n",
        "    ref_token_type_ids = torch.zeros_like(token_type_ids, device=device)# * -1\n",
        "    return token_type_ids, ref_token_type_ids\n",
        "\n",
        "def construct_input_ref_pos_id_pair(input_ids):\n",
        "    seq_length = input_ids.size(1)\n",
        "    position_ids = torch.arange(seq_length, dtype=torch.long, device=device)\n",
        "    ref_position_ids = torch.zeros(seq_length, dtype=torch.long, device=device)\n",
        "\n",
        "    position_ids = position_ids.unsqueeze(0).expand_as(input_ids)\n",
        "    ref_position_ids = ref_position_ids.unsqueeze(0).expand_as(input_ids)\n",
        "    return position_ids, ref_position_ids\n",
        "    \n",
        "def construct_attention_mask(input_ids):\n",
        "    return torch.ones_like(input_ids)"
      ]
    },
    {
      "cell_type": "code",
      "execution_count": null,
      "id": "aaa7f401",
      "metadata": {},
      "outputs": [],
      "source": [
        "def custom_forward(inputs):\n",
        "    preds = predict(inputs)\n",
        "    return torch.softmax(preds, dim = 1)[0][1].unsqueeze(-1)"
      ]
    },
    {
      "cell_type": "code",
      "execution_count": null,
      "id": "ca86cdf6",
      "metadata": {},
      "outputs": [],
      "source": [
        "lig = LayerIntegratedGradients(custom_forward, model.bert.embeddings)"
      ]
    },
    {
      "cell_type": "code",
      "execution_count": null,
      "id": "328503b5",
      "metadata": {},
      "outputs": [],
      "source": [
        "text = list(pdf_temporal_test['txt_field'].iloc[0:1])[0]"
      ]
    },
    {
      "cell_type": "code",
      "execution_count": null,
      "id": "20009b3d",
      "metadata": {},
      "outputs": [],
      "source": [
        "# print(pdf_temporal_test[(pdf_temporal_test['target'] == pdf_temporal_test['pred'])][['txt_field', 'target', 'pred']])\n",
        "# text = list(pdf_temporal_test[(pdf_temporal_test['target'] == pdf_temporal_test['pred'])]['txt_field'])[1]\n",
        "# text"
      ]
    },
    {
      "cell_type": "code",
      "execution_count": null,
      "id": "f00156bb",
      "metadata": {},
      "outputs": [],
      "source": [
        "input_ids, ref_input_ids, sep_id = construct_input_ref_pair(text, ref_token_id, sep_token_id, cls_token_id)\n",
        "token_type_ids, ref_token_type_ids = construct_input_ref_token_type_pair(input_ids, sep_id)\n",
        "position_ids, ref_position_ids = construct_input_ref_pos_id_pair(input_ids)\n",
        "attention_mask = construct_attention_mask(input_ids)\n",
        "\n",
        "indices = input_ids[0].detach().tolist()\n",
        "all_tokens = tokenizer.convert_ids_to_tokens(indices)"
      ]
    },
    {
      "cell_type": "code",
      "execution_count": null,
      "id": "a0bd8fdd",
      "metadata": {},
      "outputs": [],
      "source": [
        "predict(input_ids)"
      ]
    },
    {
      "cell_type": "code",
      "execution_count": null,
      "id": "5a886bb1",
      "metadata": {},
      "outputs": [],
      "source": [
        "custom_forward(input_ids)"
      ]
    },
    {
      "cell_type": "code",
      "execution_count": null,
      "id": "0a784609",
      "metadata": {},
      "outputs": [],
      "source": [
        "attributions, delta = lig.attribute(inputs=input_ids,\n",
        "                                    baselines=ref_input_ids,\n",
        "                                    n_steps=700,\n",
        "                                    internal_batch_size=3,\n",
        "                                    return_convergence_delta=True)"
      ]
    },
    {
      "cell_type": "code",
      "execution_count": null,
      "id": "ad969aa0",
      "metadata": {},
      "outputs": [],
      "source": [
        "def summarize_attributions(attributions):\n",
        "    attributions = attributions.sum(dim=-1).squeeze(0)\n",
        "    attributions = attributions / torch.norm(attributions)\n",
        "    return attributions"
      ]
    },
    {
      "cell_type": "code",
      "execution_count": null,
      "id": "18c6c6aa",
      "metadata": {},
      "outputs": [],
      "source": [
        "attributions_sum = summarize_attributions(attributions)\n",
        "attributions_sum"
      ]
    },
    {
      "cell_type": "code",
      "execution_count": null,
      "id": "e49b48f8",
      "metadata": {},
      "outputs": [],
      "source": [
        "score = predict(input_ids)\n",
        "\n",
        "print('Sentence: ', text)\n",
        "score"
      ]
    },
    {
      "cell_type": "code",
      "execution_count": null,
      "id": "d88923af",
      "metadata": {},
      "outputs": [],
      "source": [
        "score_vis = viz.VisualizationDataRecord(attributions_sum,\n",
        "                                        torch.softmax(score, dim = 1)[0][1],\n",
        "                                        torch.argmax(torch.softmax(score, dim = 0)[0]),\n",
        "                                        1,\n",
        "                                        text,\n",
        "                                        attributions_sum.sum(),       \n",
        "                                        all_tokens,\n",
        "                                        delta)\n"
      ]
    },
    {
      "cell_type": "code",
      "execution_count": null,
      "id": "71bb0d6b",
      "metadata": {},
      "outputs": [],
      "source": [
        "print('Visualization For Score')\n",
        "viz.visualize_text([score_vis])"
      ]
    },
    {
      "cell_type": "code",
      "execution_count": null,
      "id": "f4a315b4",
      "metadata": {},
      "outputs": [],
      "source": [
        "text"
      ]
    },
    {
      "cell_type": "code",
      "execution_count": null,
      "id": "0bdf3350",
      "metadata": {},
      "outputs": [],
      "source": []
    }
  ],
  "metadata": {
    "kernel_info": {
      "name": "python38-azureml"
    },
    "kernelspec": {
      "display_name": "Python 3.8 - AzureML",
      "language": "python",
      "name": "python38-azureml"
    },
    "language_info": {
      "codemirror_mode": {
        "name": "ipython",
        "version": 3
      },
      "file_extension": ".py",
      "mimetype": "text/x-python",
      "name": "python",
      "nbconvert_exporter": "python",
      "pygments_lexer": "ipython3",
      "version": "3.8.5"
    },
    "nteract": {
      "version": "nteract-front-end@1.0.0"
    }
  },
  "nbformat": 4,
  "nbformat_minor": 5
}
